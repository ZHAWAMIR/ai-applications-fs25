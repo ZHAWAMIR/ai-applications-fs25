{
 "cells": [
  {
   "cell_type": "markdown",
   "metadata": {},
   "source": [
    "# Block End-to-End Machine Learning"
   ]
  },
  {
   "cell_type": "markdown",
   "metadata": {},
   "source": [
    "## Read File"
   ]
  },
  {
   "cell_type": "code",
   "execution_count": null,
   "metadata": {},
   "outputs": [],
   "source": [
    "import numpy as np\n",
    "import pandas as pd\n",
    "from sklearn.ensemble import RandomForestRegressor\n",
    "import pickle\n",
    "\n",
    "# Read the data to a pandas data frame\n",
    "df = pd.read_csv('apartments_data_enriched_lat_lon_combined.csv', sep=',', encoding='utf-8')\n",
    "# Get number of rows and columns\n",
    "print(df.shape)\n",
    "# Zeige die Spaltennamen\n",
    "print(df.columns)"
   ]
  },
  {
   "cell_type": "code",
   "execution_count": null,
   "metadata": {},
   "outputs": [],
   "source": [
    "# TODO change the file to your own model.\n",
    "model_filename = \"random_forest_regression.pkl\"\n",
    "\n",
    "random_forest_model = RandomForestRegressor()\n",
    "with open(model_filename, 'rb') as f:\n",
    "    random_forest_model = pickle.load(f)\n",
    "\n",
    "print('Number of features: ', random_forest_model.n_features_in_)\n",
    "print('Features are (see week 1): ', ['rooms', 'area', 'pop', 'pop_dens', 'frg_pct', 'emp', 'tax_income'])\n",
    "random_forest_model"
   ]
  },
  {
   "cell_type": "code",
   "execution_count": null,
   "metadata": {},
   "outputs": [],
   "source": [
    "df_bfs_data = pd.read_csv('bfs_municipality_and_tax_data.csv', sep=',', encoding='utf-8')\n",
    "df_bfs_data['tax_income'] = df_bfs_data['tax_income'].str.replace(\"'\", \"\").astype(float)"
   ]
  },
  {
   "cell_type": "code",
   "execution_count": null,
   "metadata": {},
   "outputs": [],
   "source": [
    "locations = {\n",
    "    \"Zürich\": 261,\n",
    "    \"Kloten\": 62,\n",
    "    \"Uster\": 198,\n",
    "    \"Illnau-Effretikon\": 296,\n",
    "    \"Feuerthalen\": 27,\n",
    "    \"Pfäffikon\": 177,\n",
    "    \"Ottenbach\": 11,\n",
    "    \"Dübendorf\": 191,\n",
    "    \"Richterswil\": 138,\n",
    "    \"Maur\": 195,\n",
    "    \"Embrach\": 56,\n",
    "    \"Bülach\": 53,\n",
    "    \"Winterthur\": 230,\n",
    "    \"Oetwil am See\": 157,\n",
    "    \"Russikon\": 178,\n",
    "    \"Obfelden\": 10,\n",
    "    \"Wald (ZH)\": 120,\n",
    "    \"Niederweningen\": 91,\n",
    "    \"Dällikon\": 84,\n",
    "    \"Buchs (ZH)\": 83,\n",
    "    \"Rüti (ZH)\": 118,\n",
    "    \"Hittnau\": 173,\n",
    "    \"Bassersdorf\": 52,\n",
    "    \"Glattfelden\": 58,\n",
    "    \"Opfikon\": 66,\n",
    "    \"Hinwil\": 117,\n",
    "    \"Regensberg\": 95,\n",
    "    \"Langnau am Albis\": 136,\n",
    "    \"Dietikon\": 243,\n",
    "    \"Erlenbach (ZH)\": 151,\n",
    "    \"Kappel am Albis\": 6,\n",
    "    \"Stäfa\": 158,\n",
    "    \"Zell (ZH)\": 231,\n",
    "    \"Turbenthal\": 228,\n",
    "    \"Oberglatt\": 92,\n",
    "    \"Winkel\": 72,\n",
    "    \"Volketswil\": 199,\n",
    "    \"Kilchberg (ZH)\": 135,\n",
    "    \"Wetzikon (ZH)\": 121,\n",
    "    \"Zumikon\": 160,\n",
    "    \"Weisslingen\": 180,\n",
    "    \"Elsau\": 219,\n",
    "    \"Hettlingen\": 221,\n",
    "    \"Rüschlikon\": 139,\n",
    "    \"Stallikon\": 13,\n",
    "    \"Dielsdorf\": 86,\n",
    "    \"Wallisellen\": 69,\n",
    "    \"Dietlikon\": 54,\n",
    "    \"Meilen\": 156,\n",
    "    \"Wangen-Brüttisellen\": 200,\n",
    "    \"Flaach\": 28,\n",
    "    \"Regensdorf\": 96,\n",
    "    \"Niederhasli\": 90,\n",
    "    \"Bauma\": 297,\n",
    "    \"Aesch (ZH)\": 241,\n",
    "    \"Schlieren\": 247,\n",
    "    \"Dürnten\": 113,\n",
    "    \"Unterengstringen\": 249,\n",
    "    \"Gossau (ZH)\": 115,\n",
    "    \"Oberengstringen\": 245,\n",
    "    \"Schleinikon\": 98,\n",
    "    \"Aeugst am Albis\": 1,\n",
    "    \"Rheinau\": 38,\n",
    "    \"Höri\": 60,\n",
    "    \"Rickenbach (ZH)\": 225,\n",
    "    \"Rafz\": 67,\n",
    "    \"Adliswil\": 131,\n",
    "    \"Zollikon\": 161,\n",
    "    \"Urdorf\": 250,\n",
    "    \"Hombrechtikon\": 153,\n",
    "    \"Birmensdorf (ZH)\": 242,\n",
    "    \"Fehraltorf\": 172,\n",
    "    \"Weiach\": 102,\n",
    "    \"Männedorf\": 155,\n",
    "    \"Küsnacht (ZH)\": 154,\n",
    "    \"Hausen am Albis\": 4,\n",
    "    \"Hochfelden\": 59,\n",
    "    \"Fällanden\": 193,\n",
    "    \"Greifensee\": 194,\n",
    "    \"Mönchaltorf\": 196,\n",
    "    \"Dägerlen\": 214,\n",
    "    \"Thalheim an der Thur\": 39,\n",
    "    \"Uetikon am See\": 159,\n",
    "    \"Seuzach\": 227,\n",
    "    \"Uitikon\": 248,\n",
    "    \"Affoltern am Albis\": 2,\n",
    "    \"Geroldswil\": 244,\n",
    "    \"Niederglatt\": 89,\n",
    "    \"Thalwil\": 141,\n",
    "    \"Rorbas\": 68,\n",
    "    \"Pfungen\": 224,\n",
    "    \"Weiningen (ZH)\": 251,\n",
    "    \"Bubikon\": 112,\n",
    "    \"Neftenbach\": 223,\n",
    "    \"Mettmenstetten\": 9,\n",
    "    \"Otelfingen\": 94,\n",
    "    \"Flurlingen\": 29,\n",
    "    \"Stadel\": 100,\n",
    "    \"Grüningen\": 116,\n",
    "    \"Henggart\": 31,\n",
    "    \"Dachsen\": 25,\n",
    "    \"Bonstetten\": 3,\n",
    "    \"Bachenbülach\": 51,\n",
    "    \"Horgen\": 295\n",
    "}"
   ]
  },
  {
   "cell_type": "markdown",
   "metadata": {},
   "source": [
    "## Random Forest Model"
   ]
  },
  {
   "cell_type": "code",
   "execution_count": null,
   "metadata": {},
   "outputs": [],
   "source": [
    "from sklearn.ensemble import RandomForestRegressor\n",
    "from sklearn.model_selection import cross_val_score\n",
    "\n",
    "def model_performance(features, df, random_forest_model = RandomForestRegressor(random_state=42)):\n",
    "    df = df.sample(frac=1, random_state=42)\n",
    "    X, y = df[features], df['price']\n",
    "    scores = cross_val_score(random_forest_model, X, y, scoring=\"neg_root_mean_squared_error\", cv=5)\n",
    "    print('CV results RMSE:', np.round(scores))\n",
    "    print('Mean RMSE:', np.mean(np.round(scores, 0)))"
   ]
  },
  {
   "cell_type": "code",
   "execution_count": null,
   "metadata": {},
   "outputs": [],
   "source": [
    "features = ['rooms', 'area', 'pop', 'pop_dens', 'frg_pct', 'emp', 'tax_income']\n",
    "model_performance(features, df)"
   ]
  },
  {
   "cell_type": "markdown",
   "metadata": {},
   "source": [
    "## Entfernung zum Stadtzentrum berechnen"
   ]
  },
  {
   "cell_type": "code",
   "execution_count": null,
   "metadata": {},
   "outputs": [],
   "source": [
    "from geopy.distance import geodesic\n",
    "\n",
    "# Definiere die Koordinaten des Stadtzentrums (Paradeplatz, Zürich)\n",
    "city_center = (47.3690, 8.5383)\n",
    "\n",
    "# Funktion zur Berechnung der Entfernung\n",
    "def calculate_distance(lat, lon):\n",
    "    return geodesic((lat, lon), city_center).km\n",
    "\n",
    "# Wende die Funktion auf jede Zeile an, um die Entfernung zu berechnen\n",
    "df[\"distance_to_city_center\"] = df.apply(lambda row: calculate_distance(row[\"lat\"], row[\"lon\"]), axis=1)\n",
    "\n",
    "# Zeige die Statistik der neuen Spalte\n",
    "print(df[\"distance_to_city_center\"].describe())\n",
    "\n",
    "# Speichere das aktualisierte Dataset\n",
    "df.to_csv(\"apartments_data_enriched_lat_lon_combined_with_distance.csv\", index=False)\n"
   ]
  },
  {
   "cell_type": "markdown",
   "metadata": {},
   "source": [
    "## Modell erneut trainieren mit der neuen Variable"
   ]
  },
  {
   "cell_type": "markdown",
   "metadata": {},
   "source": [
    "### Spalte ins Feature-Set aufnehmen"
   ]
  },
  {
   "cell_type": "code",
   "execution_count": null,
   "metadata": {},
   "outputs": [],
   "source": [
    "# Features definieren\n",
    "features = ['rooms', 'area', 'distance_to_city_center']\n",
    "\n",
    "# X = Features, y = Zielvariable (Preis)\n",
    "X = df[features]\n",
    "y = df[\"price\"]"
   ]
  },
  {
   "cell_type": "markdown",
   "metadata": {},
   "source": [
    "### Train/Test-Split"
   ]
  },
  {
   "cell_type": "code",
   "execution_count": null,
   "metadata": {},
   "outputs": [],
   "source": [
    "from sklearn.model_selection import train_test_split\n",
    "\n",
    "# Split in Trainings- und Testdaten (80/20)\n",
    "X_train, X_test, y_train, y_test = train_test_split(X, y, test_size=0.2, random_state=42)"
   ]
  },
  {
   "cell_type": "markdown",
   "metadata": {},
   "source": [
    "### Modell trainieren (Random Forest)"
   ]
  },
  {
   "cell_type": "code",
   "execution_count": null,
   "metadata": {},
   "outputs": [],
   "source": [
    "from sklearn.ensemble import RandomForestRegressor\n",
    "from sklearn.metrics import mean_squared_error\n",
    "\n",
    "# Modell definieren\n",
    "model = RandomForestRegressor(n_estimators=100, random_state=42)\n",
    "\n",
    "# Modell trainieren\n",
    "model.fit(X_train, y_train)\n",
    "\n",
    "# Vorhersagen machen\n",
    "y_pred = model.predict(X_test)\n",
    "\n",
    "# RMSE berechnen\n",
    "mse = mean_squared_error(y_test, y_pred)\n",
    "rmse = np.sqrt(mse)\n",
    "print(f\"RMSE mit distance_to_city_center: {rmse}\")"
   ]
  },
  {
   "cell_type": "code",
   "execution_count": null,
   "metadata": {},
   "outputs": [],
   "source": [
    "import pickle\n",
    "\n",
    "# Speichere das Modell in einer Pickle-Datei\n",
    "model_filename = \"random_forest_regression_distance_to_city_center.pkl\"\n",
    "with open(model_filename, 'wb') as f:\n",
    "    pickle.dump(model, f)\n",
    "\n",
    "print(f\"Modell wurde in {model_filename} gespeichert.\")\n",
    "\n",
    "random_forest_model_distance_to_city_center = RandomForestRegressor()\n",
    "with open(model_filename, 'rb') as f:\n",
    "    random_forest_model_distance_to_city_center = pickle.load(f)\n",
    "\n",
    "print('Number of features: ', random_forest_model_distance_to_city_center.n_features_in_)\n",
    "print('Features are: ', ['rooms', 'area','distance_to_city_center'])\n",
    "random_forest_model_distance_to_city_center"
   ]
  },
  {
   "cell_type": "code",
   "execution_count": null,
   "metadata": {},
   "outputs": [],
   "source": [
    "import gradio as gr\n",
    "\n",
    "# Funktion für die Preisvorhersage\n",
    "def predict_price(rooms, area, distance_to_city_center):\n",
    "    # Modellvorhersage\n",
    "    input_data = np.array([[rooms, area, distance_to_city_center]])\n",
    "    prediction = model.predict(input_data)\n",
    "    return f\"Geschätzter Mietpreis: {round(prediction[0], 2)} CHF\"\n",
    "\n",
    "# Gradio-Interface\n",
    "app = gr.Interface(\n",
    "    fn=predict_price,\n",
    "    inputs=[\n",
    "        gr.Number(label=\"Anzahl Zimmer\"),\n",
    "        gr.Number(label=\"Fläche in m²\"),\n",
    "        gr.Number(label=\"Entfernung zum Stadtzentrum (km)\")\n",
    "    ],\n",
    "    outputs=gr.Textbox(label=\"Vorhersage\"),\n",
    ")\n",
    "\n",
    "app.launch()"
   ]
  }
 ],
 "metadata": {
  "kernelspec": {
   "display_name": "Python 3",
   "language": "python",
   "name": "python3"
  },
  "language_info": {
   "codemirror_mode": {
    "name": "ipython",
    "version": 3
   },
   "file_extension": ".py",
   "mimetype": "text/x-python",
   "name": "python",
   "nbconvert_exporter": "python",
   "pygments_lexer": "ipython3",
   "version": "3.12.1"
  }
 },
 "nbformat": 4,
 "nbformat_minor": 2
}
